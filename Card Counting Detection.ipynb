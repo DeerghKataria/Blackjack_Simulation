{
 "cells": [
  {
   "cell_type": "markdown",
   "id": "c1ca8831-c997-4008-ad9c-d9cb2dee2b4a",
   "metadata": {},
   "source": [
    "# Blackjack Card Counter Classification Model\n",
    "- This notebook presents a step-by-step analysis to predict whether a player is using card counting strategies in blackjack.  \n",
    "- We explore and preprocess the data, train multiple classification models (Logistic Regression, SVM, Random Forest), tune hyperparameters, evaluate performance, and visualize feature importance.  \n",
    "- The goal is to understand which factors most influence card counting detection and to identify the most effective model for this task."
   ]
  },
  {
   "cell_type": "markdown",
   "id": "1d160f9b-9b7f-47bb-9aa7-2c0ab938aa82",
   "metadata": {},
   "source": [
    "## 1. Notebook Setup & Data Loading\n",
    "### 1.1 Setup and Loading Data\n",
    "- We scan the data folder, finds all Excel files, and list them.\n",
    "- It ensures we don’t proceed if the folder is empty or incorrectly set."
   ]
  },
  {
   "cell_type": "code",
   "execution_count": 1,
   "id": "8a620008-ad12-4010-8aff-f5dc7f733869",
   "metadata": {},
   "outputs": [],
   "source": [
    "# Core imports\n",
    "import os\n",
    "from pathlib import Path\n",
    "import pandas as pd\n",
    "import numpy as np\n",
    "\n",
    "# Path to the folder where all Excel datasets are stored\n",
    "# Example for Windows: r\"C:\\Users\\you\\projects\\blackjack\\data\"\n",
    "# Example for Mac/Linux: \"/Users/you/projects/blackjack/data\"\n",
    "DATA_DIR = \"./Datasets\"  # change if your data is in a different location\n",
    "\n",
    "# Columns we expect to see in every file\n",
    "# Helps us catch typos or missing fields early\n",
    "REQUIRED_COLS = {\n",
    "    \"Player_Value\",\n",
    "    \"Dealer_UpCard\",\n",
    "    \"Soft\",\n",
    "    \"Pair\",\n",
    "    \"Bet Size\",\n",
    "    \"Action\",\n",
    "    \"True_Count\",\n",
    "    \"Card_Counter\",\n",
    "}"
   ]
  },
  {
   "cell_type": "code",
   "execution_count": 2,
   "id": "47fc672f-5986-4072-81b8-0f661aceb0b5",
   "metadata": {},
   "outputs": [
    {
     "name": "stdout",
     "output_type": "stream",
     "text": [
      "Found 10 Excel file(s):\n",
      "- CardCountingData_BasicStrategy_Counter_AggressiveSpread.xlsx\n",
      "- CardCountingData_BasicStrategy_Counter_FlatBet.xlsx\n",
      "- CardCountingData_BasicStrategy_Counter_MidSpread.xlsx\n",
      "- CardCountingData_BasicStrategy_Counter_PassiveSpread.xlsx\n",
      "- CardCountingData_BasicStrategy_NotCounter_FlatBet.xlsx\n",
      "- CardCountingData_BasicStrategy_NotCounter_RandomBet.xlsx\n",
      "- CardCountingData_CasinoStrategy_NotCounter_FlatBet.xlsx\n",
      "- CardCountingData_CasinoStrategy_NotCounter_RandomBet.xlsx\n",
      "- CardCountingData_RandomStrategy_NotCounter_FlatBet.xlsx\n",
      "- CardCountingData_RandomStrategy_NotCounter_RandomBet.xlsx\n"
     ]
    }
   ],
   "source": [
    "# Converting the folder path to a Path object for easier file handling\n",
    "data_dir = Path(DATA_DIR)\n",
    "\n",
    "# Getting a sorted list of all Excel files in the folder\n",
    "xlsx_files = sorted(data_dir.glob(\"*.xlsx\"))\n",
    "\n",
    "# Stopping the script early if no Excel files are found\n",
    "if not xlsx_files:\n",
    "    raise FileNotFoundError(\n",
    "        f\"No .xlsx files found in {data_dir.resolve()}. \"\n",
    "        \"Update DATA_DIR to the correct folder.\"\n",
    "    )\n",
    "\n",
    "# Showing the number of files found and list their names\n",
    "print(f\"Found {len(xlsx_files)} Excel file(s):\")\n",
    "for fp in xlsx_files:\n",
    "    print(\"-\", fp.name)"
   ]
  },
  {
   "cell_type": "markdown",
   "id": "d434e69f-fea7-419c-b698-b414352c4e3c",
   "metadata": {},
   "source": [
    "### 1.2 Loading the Excel Files\n",
    "- Loading each Excel file, checking for missing columns, and keeping only valid datasets. Any files with problems are skipped, ensuring only usable data moves forward."
   ]
  },
  {
   "cell_type": "code",
   "execution_count": 3,
   "id": "50e8a44c-f717-4453-8e58-4409b9bb7c1a",
   "metadata": {},
   "outputs": [
    {
     "name": "stdout",
     "output_type": "stream",
     "text": [
      "Loaded 'CardCountingData_BasicStrategy_Counter_AggressiveSpread.xlsx' -> rows: 4814\n",
      "Loaded 'CardCountingData_BasicStrategy_Counter_FlatBet.xlsx' -> rows: 4814\n",
      "Loaded 'CardCountingData_BasicStrategy_Counter_MidSpread.xlsx' -> rows: 4814\n",
      "Loaded 'CardCountingData_BasicStrategy_Counter_PassiveSpread.xlsx' -> rows: 4814\n",
      "Loaded 'CardCountingData_BasicStrategy_NotCounter_FlatBet.xlsx' -> rows: 4800\n",
      "Loaded 'CardCountingData_BasicStrategy_NotCounter_RandomBet.xlsx' -> rows: 4800\n",
      "Loaded 'CardCountingData_CasinoStrategy_NotCounter_FlatBet.xlsx' -> rows: 4800\n",
      "Loaded 'CardCountingData_CasinoStrategy_NotCounter_RandomBet.xlsx' -> rows: 4800\n",
      "Loaded 'CardCountingData_RandomStrategy_NotCounter_FlatBet.xlsx' -> rows: 4800\n",
      "Loaded 'CardCountingData_RandomStrategy_NotCounter_RandomBet.xlsx' -> rows: 4800\n"
     ]
    }
   ],
   "source": [
    "frames = []\n",
    "\n",
    "# Looping through each Excel file and load it into a DataFrame\n",
    "for fp in xlsx_files:\n",
    "    try:\n",
    "        df = pd.read_excel(fp, sheet_name=0)\n",
    "        df.columns = [c.strip() for c in df.columns]  # remove extra spaces in column names\n",
    "\n",
    "        # Check for any missing required columns\n",
    "        missing = REQUIRED_COLS.difference(df.columns)\n",
    "        if missing:\n",
    "            print(f\"Skipping '{fp.name}' — missing columns: {sorted(missing)}\")\n",
    "            continue\n",
    "\n",
    "        # Store the DataFrame if it's valid\n",
    "        frames.append(df)\n",
    "        print(f\"Loaded '{fp.name}' -> rows: {len(df)}\")\n",
    "    except Exception as e:\n",
    "        print(f\"Error reading '{fp.name}': {e}\")\n",
    "\n",
    "# Stopping if no valid datasets were loaded\n",
    "if not frames:\n",
    "    raise RuntimeError(\n",
    "        \"No valid datasets were loaded (all missing required columns or failed to read).\"\n",
    "    )"
   ]
  },
  {
   "cell_type": "markdown",
   "id": "dd50bd96-a031-48d6-94fd-7f4586314e79",
   "metadata": {},
   "source": [
    "### 1.3 Combining Excel Data in one Data Frame\n",
    "- This combines all loaded files into a single dataset, printing an overview of its structure, showing class distribution for `Card_Counter`, and previewing the first few rows."
   ]
  },
  {
   "cell_type": "code",
   "execution_count": 4,
   "id": "e0f0be20-fecb-4537-95a9-c35068fc204c",
   "metadata": {},
   "outputs": [
    {
     "name": "stdout",
     "output_type": "stream",
     "text": [
      "\n",
      "--- Combined Dataset Summary ---\n",
      "Total rows: 48,056\n",
      "Total columns: 8\n",
      "Columns: ['Player_Value', 'Dealer_UpCard', 'Soft', 'Pair', 'Bet Size', 'Action', 'True_Count', 'Card_Counter']\n",
      "\n",
      "Class balance for 'Card_Counter':\n",
      "Card_Counter\n",
      "No     28800\n",
      "Yes    19200\n",
      "NaN       56\n",
      "Name: count, dtype: int64\n",
      "\n",
      "Preview of dataset:\n"
     ]
    },
    {
     "data": {
      "text/html": [
       "<div>\n",
       "<style scoped>\n",
       "    .dataframe tbody tr th:only-of-type {\n",
       "        vertical-align: middle;\n",
       "    }\n",
       "\n",
       "    .dataframe tbody tr th {\n",
       "        vertical-align: top;\n",
       "    }\n",
       "\n",
       "    .dataframe thead th {\n",
       "        text-align: right;\n",
       "    }\n",
       "</style>\n",
       "<table border=\"1\" class=\"dataframe\">\n",
       "  <thead>\n",
       "    <tr style=\"text-align: right;\">\n",
       "      <th></th>\n",
       "      <th>Player_Value</th>\n",
       "      <th>Dealer_UpCard</th>\n",
       "      <th>Soft</th>\n",
       "      <th>Pair</th>\n",
       "      <th>Bet Size</th>\n",
       "      <th>Action</th>\n",
       "      <th>True_Count</th>\n",
       "      <th>Card_Counter</th>\n",
       "    </tr>\n",
       "  </thead>\n",
       "  <tbody>\n",
       "    <tr>\n",
       "      <th>0</th>\n",
       "      <td>4.0</td>\n",
       "      <td>2.0</td>\n",
       "      <td>No</td>\n",
       "      <td>Yes</td>\n",
       "      <td>10.0</td>\n",
       "      <td>H</td>\n",
       "      <td>0.0</td>\n",
       "      <td>Yes</td>\n",
       "    </tr>\n",
       "    <tr>\n",
       "      <th>1</th>\n",
       "      <td>4.0</td>\n",
       "      <td>3.0</td>\n",
       "      <td>No</td>\n",
       "      <td>Yes</td>\n",
       "      <td>10.0</td>\n",
       "      <td>H</td>\n",
       "      <td>0.0</td>\n",
       "      <td>Yes</td>\n",
       "    </tr>\n",
       "    <tr>\n",
       "      <th>2</th>\n",
       "      <td>4.0</td>\n",
       "      <td>4.0</td>\n",
       "      <td>No</td>\n",
       "      <td>Yes</td>\n",
       "      <td>10.0</td>\n",
       "      <td>H</td>\n",
       "      <td>0.0</td>\n",
       "      <td>Yes</td>\n",
       "    </tr>\n",
       "    <tr>\n",
       "      <th>3</th>\n",
       "      <td>4.0</td>\n",
       "      <td>5.0</td>\n",
       "      <td>No</td>\n",
       "      <td>Yes</td>\n",
       "      <td>10.0</td>\n",
       "      <td>H</td>\n",
       "      <td>0.0</td>\n",
       "      <td>Yes</td>\n",
       "    </tr>\n",
       "    <tr>\n",
       "      <th>4</th>\n",
       "      <td>4.0</td>\n",
       "      <td>6.0</td>\n",
       "      <td>No</td>\n",
       "      <td>Yes</td>\n",
       "      <td>10.0</td>\n",
       "      <td>H</td>\n",
       "      <td>0.0</td>\n",
       "      <td>Yes</td>\n",
       "    </tr>\n",
       "    <tr>\n",
       "      <th>5</th>\n",
       "      <td>4.0</td>\n",
       "      <td>7.0</td>\n",
       "      <td>No</td>\n",
       "      <td>Yes</td>\n",
       "      <td>10.0</td>\n",
       "      <td>H</td>\n",
       "      <td>0.0</td>\n",
       "      <td>Yes</td>\n",
       "    </tr>\n",
       "    <tr>\n",
       "      <th>6</th>\n",
       "      <td>4.0</td>\n",
       "      <td>8.0</td>\n",
       "      <td>No</td>\n",
       "      <td>Yes</td>\n",
       "      <td>10.0</td>\n",
       "      <td>H</td>\n",
       "      <td>0.0</td>\n",
       "      <td>Yes</td>\n",
       "    </tr>\n",
       "    <tr>\n",
       "      <th>7</th>\n",
       "      <td>4.0</td>\n",
       "      <td>9.0</td>\n",
       "      <td>No</td>\n",
       "      <td>Yes</td>\n",
       "      <td>10.0</td>\n",
       "      <td>H</td>\n",
       "      <td>0.0</td>\n",
       "      <td>Yes</td>\n",
       "    </tr>\n",
       "    <tr>\n",
       "      <th>8</th>\n",
       "      <td>4.0</td>\n",
       "      <td>10.0</td>\n",
       "      <td>No</td>\n",
       "      <td>Yes</td>\n",
       "      <td>10.0</td>\n",
       "      <td>H</td>\n",
       "      <td>0.0</td>\n",
       "      <td>Yes</td>\n",
       "    </tr>\n",
       "    <tr>\n",
       "      <th>9</th>\n",
       "      <td>4.0</td>\n",
       "      <td>11.0</td>\n",
       "      <td>No</td>\n",
       "      <td>Yes</td>\n",
       "      <td>10.0</td>\n",
       "      <td>H</td>\n",
       "      <td>0.0</td>\n",
       "      <td>Yes</td>\n",
       "    </tr>\n",
       "  </tbody>\n",
       "</table>\n",
       "</div>"
      ],
      "text/plain": [
       "   Player_Value  Dealer_UpCard Soft Pair  Bet Size Action  True_Count  \\\n",
       "0           4.0            2.0   No  Yes      10.0      H         0.0   \n",
       "1           4.0            3.0   No  Yes      10.0      H         0.0   \n",
       "2           4.0            4.0   No  Yes      10.0      H         0.0   \n",
       "3           4.0            5.0   No  Yes      10.0      H         0.0   \n",
       "4           4.0            6.0   No  Yes      10.0      H         0.0   \n",
       "5           4.0            7.0   No  Yes      10.0      H         0.0   \n",
       "6           4.0            8.0   No  Yes      10.0      H         0.0   \n",
       "7           4.0            9.0   No  Yes      10.0      H         0.0   \n",
       "8           4.0           10.0   No  Yes      10.0      H         0.0   \n",
       "9           4.0           11.0   No  Yes      10.0      H         0.0   \n",
       "\n",
       "  Card_Counter  \n",
       "0          Yes  \n",
       "1          Yes  \n",
       "2          Yes  \n",
       "3          Yes  \n",
       "4          Yes  \n",
       "5          Yes  \n",
       "6          Yes  \n",
       "7          Yes  \n",
       "8          Yes  \n",
       "9          Yes  "
      ]
     },
     "metadata": {},
     "output_type": "display_data"
    }
   ],
   "source": [
    "# Combining all valid DataFrames into one\n",
    "data = pd.concat(frames, ignore_index=True)\n",
    "\n",
    "# Basic summary of the combined dataset\n",
    "print(\"\\n--- Combined Dataset Summary ---\")\n",
    "print(f\"Total rows: {len(data):,}\")\n",
    "print(f\"Total columns: {len(data.columns)}\")\n",
    "print(\"Columns:\", list(data.columns))\n",
    "\n",
    "# Showing how many card counters vs non-counters we have\n",
    "print(\"\\nClass balance for 'Card_Counter':\")\n",
    "print(data[\"Card_Counter\"].value_counts(dropna=False))\n",
    "\n",
    "# Previewing the first few rows\n",
    "print(\"\\nPreview of dataset:\")\n",
    "display(data.head(10))"
   ]
  },
  {
   "cell_type": "markdown",
   "id": "c9e53ac4-2d84-4810-8680-808760db5761",
   "metadata": {},
   "source": [
    "## 2. Data Exploration\n",
    "### 2.1 Initial Data Exploration\n",
    "- We’re getting a quick sense of the dataset’s structure, numeric distributions, and any missing values before moving on to deeper exploration or preprocessing."
   ]
  },
  {
   "cell_type": "code",
   "execution_count": 5,
   "id": "cffe6fc8-e7ea-4452-9ad8-4130701cfa8c",
   "metadata": {},
   "outputs": [
    {
     "name": "stdout",
     "output_type": "stream",
     "text": [
      "--- Data Info ---\n",
      "<class 'pandas.core.frame.DataFrame'>\n",
      "RangeIndex: 48056 entries, 0 to 48055\n",
      "Data columns (total 8 columns):\n",
      " #   Column         Non-Null Count  Dtype  \n",
      "---  ------         --------------  -----  \n",
      " 0   Player_Value   48000 non-null  float64\n",
      " 1   Dealer_UpCard  48000 non-null  float64\n",
      " 2   Soft           48000 non-null  object \n",
      " 3   Pair           48000 non-null  object \n",
      " 4   Bet Size       48000 non-null  float64\n",
      " 5   Action         48000 non-null  object \n",
      " 6   True_Count     48000 non-null  float64\n",
      " 7   Card_Counter   48000 non-null  object \n",
      "dtypes: float64(4), object(4)\n",
      "memory usage: 2.9+ MB\n",
      "None\n",
      "\n",
      "\n",
      "--- Numeric Summary ---\n"
     ]
    },
    {
     "data": {
      "text/html": [
       "<div>\n",
       "<style scoped>\n",
       "    .dataframe tbody tr th:only-of-type {\n",
       "        vertical-align: middle;\n",
       "    }\n",
       "\n",
       "    .dataframe tbody tr th {\n",
       "        vertical-align: top;\n",
       "    }\n",
       "\n",
       "    .dataframe thead th {\n",
       "        text-align: right;\n",
       "    }\n",
       "</style>\n",
       "<table border=\"1\" class=\"dataframe\">\n",
       "  <thead>\n",
       "    <tr style=\"text-align: right;\">\n",
       "      <th></th>\n",
       "      <th>Player_Value</th>\n",
       "      <th>Dealer_UpCard</th>\n",
       "      <th>Bet Size</th>\n",
       "      <th>True_Count</th>\n",
       "    </tr>\n",
       "  </thead>\n",
       "  <tbody>\n",
       "    <tr>\n",
       "      <th>count</th>\n",
       "      <td>48000.000000</td>\n",
       "      <td>48000.000000</td>\n",
       "      <td>48000.000000</td>\n",
       "      <td>48000.000000</td>\n",
       "    </tr>\n",
       "    <tr>\n",
       "      <th>mean</th>\n",
       "      <td>12.875000</td>\n",
       "      <td>6.500000</td>\n",
       "      <td>34.079021</td>\n",
       "      <td>0.000000</td>\n",
       "    </tr>\n",
       "    <tr>\n",
       "      <th>std</th>\n",
       "      <td>4.456432</td>\n",
       "      <td>2.872311</td>\n",
       "      <td>31.450665</td>\n",
       "      <td>4.320539</td>\n",
       "    </tr>\n",
       "    <tr>\n",
       "      <th>min</th>\n",
       "      <td>4.000000</td>\n",
       "      <td>2.000000</td>\n",
       "      <td>0.000000</td>\n",
       "      <td>-7.000000</td>\n",
       "    </tr>\n",
       "    <tr>\n",
       "      <th>25%</th>\n",
       "      <td>9.750000</td>\n",
       "      <td>4.000000</td>\n",
       "      <td>10.000000</td>\n",
       "      <td>-4.000000</td>\n",
       "    </tr>\n",
       "    <tr>\n",
       "      <th>50%</th>\n",
       "      <td>13.500000</td>\n",
       "      <td>6.500000</td>\n",
       "      <td>17.000000</td>\n",
       "      <td>0.000000</td>\n",
       "    </tr>\n",
       "    <tr>\n",
       "      <th>75%</th>\n",
       "      <td>16.250000</td>\n",
       "      <td>9.000000</td>\n",
       "      <td>60.000000</td>\n",
       "      <td>4.000000</td>\n",
       "    </tr>\n",
       "    <tr>\n",
       "      <th>max</th>\n",
       "      <td>20.000000</td>\n",
       "      <td>11.000000</td>\n",
       "      <td>120.000000</td>\n",
       "      <td>7.000000</td>\n",
       "    </tr>\n",
       "  </tbody>\n",
       "</table>\n",
       "</div>"
      ],
      "text/plain": [
       "       Player_Value  Dealer_UpCard      Bet Size    True_Count\n",
       "count  48000.000000   48000.000000  48000.000000  48000.000000\n",
       "mean      12.875000       6.500000     34.079021      0.000000\n",
       "std        4.456432       2.872311     31.450665      4.320539\n",
       "min        4.000000       2.000000      0.000000     -7.000000\n",
       "25%        9.750000       4.000000     10.000000     -4.000000\n",
       "50%       13.500000       6.500000     17.000000      0.000000\n",
       "75%       16.250000       9.000000     60.000000      4.000000\n",
       "max       20.000000      11.000000    120.000000      7.000000"
      ]
     },
     "metadata": {},
     "output_type": "display_data"
    },
    {
     "name": "stdout",
     "output_type": "stream",
     "text": [
      "\n",
      "\n",
      "--- First 5 Rows ---\n"
     ]
    },
    {
     "data": {
      "text/html": [
       "<div>\n",
       "<style scoped>\n",
       "    .dataframe tbody tr th:only-of-type {\n",
       "        vertical-align: middle;\n",
       "    }\n",
       "\n",
       "    .dataframe tbody tr th {\n",
       "        vertical-align: top;\n",
       "    }\n",
       "\n",
       "    .dataframe thead th {\n",
       "        text-align: right;\n",
       "    }\n",
       "</style>\n",
       "<table border=\"1\" class=\"dataframe\">\n",
       "  <thead>\n",
       "    <tr style=\"text-align: right;\">\n",
       "      <th></th>\n",
       "      <th>Player_Value</th>\n",
       "      <th>Dealer_UpCard</th>\n",
       "      <th>Soft</th>\n",
       "      <th>Pair</th>\n",
       "      <th>Bet Size</th>\n",
       "      <th>Action</th>\n",
       "      <th>True_Count</th>\n",
       "      <th>Card_Counter</th>\n",
       "    </tr>\n",
       "  </thead>\n",
       "  <tbody>\n",
       "    <tr>\n",
       "      <th>0</th>\n",
       "      <td>4.0</td>\n",
       "      <td>2.0</td>\n",
       "      <td>No</td>\n",
       "      <td>Yes</td>\n",
       "      <td>10.0</td>\n",
       "      <td>H</td>\n",
       "      <td>0.0</td>\n",
       "      <td>Yes</td>\n",
       "    </tr>\n",
       "    <tr>\n",
       "      <th>1</th>\n",
       "      <td>4.0</td>\n",
       "      <td>3.0</td>\n",
       "      <td>No</td>\n",
       "      <td>Yes</td>\n",
       "      <td>10.0</td>\n",
       "      <td>H</td>\n",
       "      <td>0.0</td>\n",
       "      <td>Yes</td>\n",
       "    </tr>\n",
       "    <tr>\n",
       "      <th>2</th>\n",
       "      <td>4.0</td>\n",
       "      <td>4.0</td>\n",
       "      <td>No</td>\n",
       "      <td>Yes</td>\n",
       "      <td>10.0</td>\n",
       "      <td>H</td>\n",
       "      <td>0.0</td>\n",
       "      <td>Yes</td>\n",
       "    </tr>\n",
       "    <tr>\n",
       "      <th>3</th>\n",
       "      <td>4.0</td>\n",
       "      <td>5.0</td>\n",
       "      <td>No</td>\n",
       "      <td>Yes</td>\n",
       "      <td>10.0</td>\n",
       "      <td>H</td>\n",
       "      <td>0.0</td>\n",
       "      <td>Yes</td>\n",
       "    </tr>\n",
       "    <tr>\n",
       "      <th>4</th>\n",
       "      <td>4.0</td>\n",
       "      <td>6.0</td>\n",
       "      <td>No</td>\n",
       "      <td>Yes</td>\n",
       "      <td>10.0</td>\n",
       "      <td>H</td>\n",
       "      <td>0.0</td>\n",
       "      <td>Yes</td>\n",
       "    </tr>\n",
       "  </tbody>\n",
       "</table>\n",
       "</div>"
      ],
      "text/plain": [
       "   Player_Value  Dealer_UpCard Soft Pair  Bet Size Action  True_Count  \\\n",
       "0           4.0            2.0   No  Yes      10.0      H         0.0   \n",
       "1           4.0            3.0   No  Yes      10.0      H         0.0   \n",
       "2           4.0            4.0   No  Yes      10.0      H         0.0   \n",
       "3           4.0            5.0   No  Yes      10.0      H         0.0   \n",
       "4           4.0            6.0   No  Yes      10.0      H         0.0   \n",
       "\n",
       "  Card_Counter  \n",
       "0          Yes  \n",
       "1          Yes  \n",
       "2          Yes  \n",
       "3          Yes  \n",
       "4          Yes  "
      ]
     },
     "metadata": {},
     "output_type": "display_data"
    },
    {
     "name": "stdout",
     "output_type": "stream",
     "text": [
      "\n",
      "\n",
      "--- Missing Values Count ---\n",
      "Player_Value     56\n",
      "Dealer_UpCard    56\n",
      "Soft             56\n",
      "Pair             56\n",
      "Bet Size         56\n",
      "Action           56\n",
      "True_Count       56\n",
      "Card_Counter     56\n",
      "dtype: int64\n"
     ]
    }
   ],
   "source": [
    "# Checking general info: data types, non-null counts\n",
    "print(\"--- Data Info ---\")\n",
    "print(data.info())\n",
    "\n",
    "# Summary statistics for numeric columns\n",
    "print(\"\\n\\n--- Numeric Summary ---\")\n",
    "display(data.describe())\n",
    "\n",
    "# Quick look at the first few rows\n",
    "print(\"\\n\\n--- First 5 Rows ---\")\n",
    "display(data.head())\n",
    "\n",
    "# Count of missing values per column\n",
    "print(\"\\n\\n--- Missing Values Count ---\")\n",
    "print(data.isna().sum())\n"
   ]
  },
  {
   "cell_type": "markdown",
   "id": "a0aa4876-fcaf-42d7-a10b-b29445e9b5ff",
   "metadata": {},
   "source": [
    "### 2.2 Handling Missing Values\n",
    "- Since, we have 56 missing values in the above analysis.\n",
    "- We’re removing incomplete rows to ensure clean data for modeling, while checking how this affects the class balance for `Card_Counter`."
   ]
  },
  {
   "cell_type": "code",
   "execution_count": 6,
   "id": "bc4ff482-bb6b-43bc-84a3-ad999c54b35d",
   "metadata": {},
   "outputs": [
    {
     "name": "stdout",
     "output_type": "stream",
     "text": [
      "After dropping missing rows: 48000 rows remain\n",
      "Card_Counter\n",
      "No     28800\n",
      "Yes    19200\n",
      "Name: count, dtype: int64\n"
     ]
    }
   ],
   "source": [
    "# Dropping any rows that have missing values in any required column\n",
    "data = data.dropna().reset_index(drop=True)\n",
    "\n",
    "# Showing updated dataset size and class balance\n",
    "print(f\"After dropping missing rows: {len(data)} rows remain\")\n",
    "print(data[\"Card_Counter\"].value_counts(dropna=False))"
   ]
  },
  {
   "cell_type": "markdown",
   "id": "29f01eb6-e283-4373-82e0-5b30a0d0448a",
   "metadata": {},
   "source": [
    "### 2.3 Counter v/s Non-Counter\n",
    "- This plot shows how many card counters vs non-counters are in the dataset, helping us check for class imbalance before modeling."
   ]
  },
  {
   "cell_type": "code",
   "execution_count": 25,
   "id": "8fcaf8ea-9c0f-4706-a5a9-00b340e3b247",
   "metadata": {},
   "outputs": [
    {
     "data": {
      "image/png": "[encoded data removed]",
      "text/plain": [
       "<Figure size 500x400 with 1 Axes>"
      ]
     },
     "metadata": {},
     "output_type": "display_data"
    }
   ],
   "source": [
    "import matplotlib.pyplot as plt\n",
    "import seaborn as sns\n",
    "\n",
    "# Visualizing the class distribution for Card_Counter\n",
    "plt.figure(figsize=(5, 4))\n",
    "sns.countplot(\n",
    "    data=data, \n",
    "    x=\"Card_Counter\", \n",
    "    hue=\"Card_Counter\", \n",
    "    palette=\"viridis\", \n",
    "    legend=False           # Removing duplicate legend\n",
    ")\n",
    "plt.title(\"Card Counter Class Distribution\")\n",
    "plt.xlabel(\"Card Counter\")\n",
    "plt.ylabel(\"Count\")\n",
    "plt.show()"
   ]
  },
  {
   "cell_type": "markdown",
   "id": "5e96b33c-d217-48cf-8bf6-bdaec084f3a2",
   "metadata": {},
   "source": [
    "### 2.4 True Count and Bet Size Distribution by `Card_Counter`\n",
    "- These plots help us see how `True_Count` and Bet Size differ between counters and non-counters, which can indicate predictive power for the model."
   ]
  },
  {
   "cell_type": "code",
   "execution_count": 8,
   "id": "b0629e0a-cc74-404a-b83c-f08d0a84753a",
   "metadata": {},
   "outputs": [
    {
     "data": {
      "image/png": "[encoded data removed]",
      "text/plain": [
       "<Figure size 600x400 with 1 Axes>"
      ]
     },
     "metadata": {},
     "output_type": "display_data"
    },
    {
     "data": {
      "image/png": "[encoded data removed]",
      "text/plain": [
       "<Figure size 600x400 with 1 Axes>"
      ]
     },
     "metadata": {},
     "output_type": "display_data"
    }
   ],
   "source": [
    "# Distribution of True_Count, split by Card_Counter class\n",
    "plt.figure(figsize=(6, 4))\n",
    "sns.histplot(data=data, x=\"True_Count\", hue=\"Card_Counter\", multiple=\"stack\", palette=\"mako\")\n",
    "plt.title(\"True Count Distribution by Card_Counter\")\n",
    "plt.show()\n",
    "\n",
    "# Distribution of Bet Size, split by Card_Counter class\n",
    "plt.figure(figsize=(6, 4))\n",
    "sns.histplot(data=data, x=\"Bet Size\", hue=\"Card_Counter\", multiple=\"stack\", palette=\"magma\")\n",
    "plt.title(\"Bet Size Distribution by Card_Counter\")\n",
    "plt.show()"
   ]
  },
  {
   "cell_type": "markdown",
   "id": "1455c5a8-59ec-4ddf-baf0-609ccd001ef4",
   "metadata": {},
   "source": [
    "### 2.5 Correlation Heatmap\n",
    "- This heatmap helps us identify which numeric features are strongly correlated and may be important for predicting card counters."
   ]
  },
  {
   "cell_type": "code",
   "execution_count": 9,
   "id": "4e79c436-fdef-43dc-b126-8b721e581224",
   "metadata": {},
   "outputs": [
    {
     "data": {
      "image/png": "[encoded data removed]",
      "text/plain": [
       "<Figure size 800x600 with 2 Axes>"
      ]
     },
     "metadata": {},
     "output_type": "display_data"
    }
   ],
   "source": [
    "# Selecting numeric columns for correlation analysis\n",
    "numeric_cols = data.select_dtypes(include=[np.number]).columns\n",
    "\n",
    "# Plotting a correlation heatmap to see relationships between numeric features\n",
    "plt.figure(figsize=(8, 6))\n",
    "sns.heatmap(data[numeric_cols].corr(), annot=True, cmap=\"coolwarm\", fmt=\".2f\")\n",
    "plt.title(\"Correlation Heatmap (Numeric Features)\")\n",
    "plt.show()"
   ]
  },
  {
   "cell_type": "markdown",
   "id": "fc800295-de5c-49a1-8b12-dc8520d6e8f9",
   "metadata": {},
   "source": [
    "## 3. Data Preprocessing\n",
    "### 3.1 Transforming Categorical -> Numeric\n",
    "- This step transforms all categorical columns into numeric form so the models can handle them, while keeping a copy of the original data intact."
   ]
  },
  {
   "cell_type": "code",
   "execution_count": 10,
   "id": "8f354db9-2ee6-4abc-ae05-8141c9238457",
   "metadata": {},
   "outputs": [
    {
     "name": "stdout",
     "output_type": "stream",
     "text": [
      "\n",
      "Encoded columns preview:\n"
     ]
    },
    {
     "data": {
      "text/html": [
       "<div>\n",
       "<style scoped>\n",
       "    .dataframe tbody tr th:only-of-type {\n",
       "        vertical-align: middle;\n",
       "    }\n",
       "\n",
       "    .dataframe tbody tr th {\n",
       "        vertical-align: top;\n",
       "    }\n",
       "\n",
       "    .dataframe thead th {\n",
       "        text-align: right;\n",
       "    }\n",
       "</style>\n",
       "<table border=\"1\" class=\"dataframe\">\n",
       "  <thead>\n",
       "    <tr style=\"text-align: right;\">\n",
       "      <th></th>\n",
       "      <th>Player_Value</th>\n",
       "      <th>Dealer_UpCard</th>\n",
       "      <th>Soft</th>\n",
       "      <th>Pair</th>\n",
       "      <th>Bet Size</th>\n",
       "      <th>Action</th>\n",
       "      <th>True_Count</th>\n",
       "      <th>Card_Counter</th>\n",
       "    </tr>\n",
       "  </thead>\n",
       "  <tbody>\n",
       "    <tr>\n",
       "      <th>0</th>\n",
       "      <td>4.0</td>\n",
       "      <td>2.0</td>\n",
       "      <td>0</td>\n",
       "      <td>1</td>\n",
       "      <td>10.0</td>\n",
       "      <td>1</td>\n",
       "      <td>0.0</td>\n",
       "      <td>1</td>\n",
       "    </tr>\n",
       "    <tr>\n",
       "      <th>1</th>\n",
       "      <td>4.0</td>\n",
       "      <td>3.0</td>\n",
       "      <td>0</td>\n",
       "      <td>1</td>\n",
       "      <td>10.0</td>\n",
       "      <td>1</td>\n",
       "      <td>0.0</td>\n",
       "      <td>1</td>\n",
       "    </tr>\n",
       "    <tr>\n",
       "      <th>2</th>\n",
       "      <td>4.0</td>\n",
       "      <td>4.0</td>\n",
       "      <td>0</td>\n",
       "      <td>1</td>\n",
       "      <td>10.0</td>\n",
       "      <td>1</td>\n",
       "      <td>0.0</td>\n",
       "      <td>1</td>\n",
       "    </tr>\n",
       "    <tr>\n",
       "      <th>3</th>\n",
       "      <td>4.0</td>\n",
       "      <td>5.0</td>\n",
       "      <td>0</td>\n",
       "      <td>1</td>\n",
       "      <td>10.0</td>\n",
       "      <td>1</td>\n",
       "      <td>0.0</td>\n",
       "      <td>1</td>\n",
       "    </tr>\n",
       "    <tr>\n",
       "      <th>4</th>\n",
       "      <td>4.0</td>\n",
       "      <td>6.0</td>\n",
       "      <td>0</td>\n",
       "      <td>1</td>\n",
       "      <td>10.0</td>\n",
       "      <td>1</td>\n",
       "      <td>0.0</td>\n",
       "      <td>1</td>\n",
       "    </tr>\n",
       "  </tbody>\n",
       "</table>\n",
       "</div>"
      ],
      "text/plain": [
       "   Player_Value  Dealer_UpCard  Soft  Pair  Bet Size  Action  True_Count  \\\n",
       "0           4.0            2.0     0     1      10.0       1         0.0   \n",
       "1           4.0            3.0     0     1      10.0       1         0.0   \n",
       "2           4.0            4.0     0     1      10.0       1         0.0   \n",
       "3           4.0            5.0     0     1      10.0       1         0.0   \n",
       "4           4.0            6.0     0     1      10.0       1         0.0   \n",
       "\n",
       "   Card_Counter  \n",
       "0             1  \n",
       "1             1  \n",
       "2             1  \n",
       "3             1  \n",
       "4             1  "
      ]
     },
     "metadata": {},
     "output_type": "display_data"
    }
   ],
   "source": [
    "from sklearn.preprocessing import LabelEncoder\n",
    "\n",
    "# Copying original data to avoid accidental changes\n",
    "df_proc = data.copy()\n",
    "\n",
    "# Encoding target variable: \"Yes\" -> 1, \"No\" -> 0\n",
    "target_le = LabelEncoder()\n",
    "df_proc[\"Card_Counter\"] = target_le.fit_transform(df_proc[\"Card_Counter\"])\n",
    "# Check mapping with target_le.classes_ if needed\n",
    "\n",
    "# Encoding binary categorical features\n",
    "binary_cols = [\"Soft\", \"Pair\"]\n",
    "for col in binary_cols:\n",
    "    df_proc[col] = LabelEncoder().fit_transform(df_proc[col])\n",
    "\n",
    "# Encoding multi-class categorical feature: Action\n",
    "df_proc[\"Action\"] = LabelEncoder().fit_transform(df_proc[\"Action\"])\n",
    "\n",
    "# Previewing to confirm that encoding worked\n",
    "print(\"\\nEncoded columns preview:\")\n",
    "display(df_proc.head())"
   ]
  },
  {
   "cell_type": "markdown",
   "id": "86326fcb-0ba5-4cc2-b312-5d513178b647",
   "metadata": {},
   "source": [
    "### 3.2 Scaling Features\n",
    "- Scaling numerical features ensures that models like Logistic Regression and SVM treat all inputs equally and improves convergence."
   ]
  },
  {
   "cell_type": "code",
   "execution_count": 11,
   "id": "a7ecd7d7-ae12-4120-8755-145dfe43b792",
   "metadata": {},
   "outputs": [
    {
     "name": "stdout",
     "output_type": "stream",
     "text": [
      "\n",
      "Scaled numeric features preview:\n"
     ]
    },
    {
     "data": {
      "text/html": [
       "<div>\n",
       "<style scoped>\n",
       "    .dataframe tbody tr th:only-of-type {\n",
       "        vertical-align: middle;\n",
       "    }\n",
       "\n",
       "    .dataframe tbody tr th {\n",
       "        vertical-align: top;\n",
       "    }\n",
       "\n",
       "    .dataframe thead th {\n",
       "        text-align: right;\n",
       "    }\n",
       "</style>\n",
       "<table border=\"1\" class=\"dataframe\">\n",
       "  <thead>\n",
       "    <tr style=\"text-align: right;\">\n",
       "      <th></th>\n",
       "      <th>Player_Value</th>\n",
       "      <th>Dealer_UpCard</th>\n",
       "      <th>Bet Size</th>\n",
       "      <th>True_Count</th>\n",
       "    </tr>\n",
       "  </thead>\n",
       "  <tbody>\n",
       "    <tr>\n",
       "      <th>0</th>\n",
       "      <td>-1.991524</td>\n",
       "      <td>-1.566699</td>\n",
       "      <td>-0.76562</td>\n",
       "      <td>0.0</td>\n",
       "    </tr>\n",
       "    <tr>\n",
       "      <th>1</th>\n",
       "      <td>-1.991524</td>\n",
       "      <td>-1.218544</td>\n",
       "      <td>-0.76562</td>\n",
       "      <td>0.0</td>\n",
       "    </tr>\n",
       "    <tr>\n",
       "      <th>2</th>\n",
       "      <td>-1.991524</td>\n",
       "      <td>-0.870388</td>\n",
       "      <td>-0.76562</td>\n",
       "      <td>0.0</td>\n",
       "    </tr>\n",
       "    <tr>\n",
       "      <th>3</th>\n",
       "      <td>-1.991524</td>\n",
       "      <td>-0.522233</td>\n",
       "      <td>-0.76562</td>\n",
       "      <td>0.0</td>\n",
       "    </tr>\n",
       "    <tr>\n",
       "      <th>4</th>\n",
       "      <td>-1.991524</td>\n",
       "      <td>-0.174078</td>\n",
       "      <td>-0.76562</td>\n",
       "      <td>0.0</td>\n",
       "    </tr>\n",
       "  </tbody>\n",
       "</table>\n",
       "</div>"
      ],
      "text/plain": [
       "   Player_Value  Dealer_UpCard  Bet Size  True_Count\n",
       "0     -1.991524      -1.566699  -0.76562         0.0\n",
       "1     -1.991524      -1.218544  -0.76562         0.0\n",
       "2     -1.991524      -0.870388  -0.76562         0.0\n",
       "3     -1.991524      -0.522233  -0.76562         0.0\n",
       "4     -1.991524      -0.174078  -0.76562         0.0"
      ]
     },
     "metadata": {},
     "output_type": "display_data"
    }
   ],
   "source": [
    "from sklearn.preprocessing import StandardScaler\n",
    "\n",
    "# Selecting numeric columns to scale\n",
    "numeric_cols = [\"Player_Value\", \"Dealer_UpCard\", \"Bet Size\", \"True_Count\"]\n",
    "\n",
    "# Standardizing features to have mean=0 and std=1\n",
    "scaler = StandardScaler()\n",
    "df_proc[numeric_cols] = scaler.fit_transform(df_proc[numeric_cols])\n",
    "\n",
    "# Previewing scaled numeric features\n",
    "print(\"\\nScaled numeric features preview:\")\n",
    "display(df_proc[numeric_cols].head())"
   ]
  },
  {
   "cell_type": "markdown",
   "id": "3799bb6b-e893-42ee-ab7f-fbed19d0e6b6",
   "metadata": {},
   "source": [
    "## 4. Test and Train Split\n",
    "- We are splitting the dataset into training and test sets while preserving the ratio of card counters to non-counters, ensuring the model learns and is evaluated fairly."
   ]
  },
  {
   "cell_type": "code",
   "execution_count": 12,
   "id": "18854042-931f-4571-b5f0-623a6e92914b",
   "metadata": {},
   "outputs": [
    {
     "name": "stdout",
     "output_type": "stream",
     "text": [
      "Training set: 38400 rows\n",
      "Test set: 9600 rows\n",
      "Target distribution in train set:\n",
      "Card_Counter\n",
      "0    0.6\n",
      "1    0.4\n",
      "Name: proportion, dtype: float64\n"
     ]
    }
   ],
   "source": [
    "from sklearn.model_selection import train_test_split\n",
    "\n",
    "# Separating features (X) and target (y)\n",
    "X = df_proc.drop(\"Card_Counter\", axis=1)\n",
    "y = df_proc[\"Card_Counter\"]\n",
    "\n",
    "# Splitting the data into training and test sets (80/20)\n",
    "# Stratifying to keep the same class distribution in both sets\n",
    "X_train, X_test, y_train, y_test = train_test_split(\n",
    "    X, y, test_size=0.2, random_state=42, stratify=y\n",
    ")\n",
    "\n",
    "# Checking sizes and class distribution\n",
    "print(f\"Training set: {X_train.shape[0]} rows\")\n",
    "print(f\"Test set: {X_test.shape[0]} rows\")\n",
    "print(\"Target distribution in train set:\")\n",
    "print(y_train.value_counts(normalize=True))"
   ]
  },
  {
   "cell_type": "markdown",
   "id": "6c70f766-664e-400f-9026-c38c9cfa2113",
   "metadata": {},
   "source": [
    "## 5. Model Training\n",
    "### 5.1 Logistic Regression\n",
    "- We’re tuning Logistic Regression to maximize the F1 score, which balances precision and recall for detecting card counters."
   ]
  },
  {
   "cell_type": "code",
   "execution_count": 13,
   "id": "1fc31565-e338-4d4f-9d7a-c16b61aae8c1",
   "metadata": {},
   "outputs": [
    {
     "name": "stdout",
     "output_type": "stream",
     "text": [
      "Best parameters: {'C': 1, 'max_iter': 500, 'penalty': 'l2', 'solver': 'lbfgs'}\n",
      "Best CV F1 score: 0.3872090898937987\n"
     ]
    }
   ],
   "source": [
    "from sklearn.linear_model import LogisticRegression\n",
    "from sklearn.model_selection import GridSearchCV\n",
    "\n",
    "# Define hyperparameter grid for Logistic Regression\n",
    "param_grid_lr = {\n",
    "    \"C\": [0.01, 0.1, 1, 10],        # regularization strength\n",
    "    \"penalty\": [\"l2\"],               # standard L2 regularization\n",
    "    \"solver\": [\"lbfgs\"],             # efficient solver for medium datasets\n",
    "    \"max_iter\": [500]                # increase iterations to ensure convergence\n",
    "}\n",
    "\n",
    "# Initialize Logistic Regression\n",
    "lr = LogisticRegression()\n",
    "\n",
    "# Grid search with 5-fold cross-validation, optimizing F1 score\n",
    "grid_lr = GridSearchCV(\n",
    "    lr, param_grid_lr,\n",
    "    cv=5, scoring=\"f1\", n_jobs=-1\n",
    ")\n",
    "\n",
    "# Fit the model on training data\n",
    "grid_lr.fit(X_train, y_train)\n",
    "\n",
    "# Display best hyperparameters and corresponding F1 score\n",
    "print(\"Best parameters:\", grid_lr.best_params_)\n",
    "print(\"Best CV F1 score:\", grid_lr.best_score_)\n"
   ]
  },
  {
   "cell_type": "markdown",
   "id": "3c17adb1-5b0d-47cc-98b5-613804094d07",
   "metadata": {},
   "source": [
    "### 5.2 Logistic Regression Performance \n",
    "- We evaluate the model’s performance on unseen data to see how well it can detect card counters and avoid false positives."
   ]
  },
  {
   "cell_type": "code",
   "execution_count": 14,
   "id": "9fe01a71-5907-4f9a-a513-9db11fe6f1d2",
   "metadata": {},
   "outputs": [
    {
     "name": "stdout",
     "output_type": "stream",
     "text": [
      "--- Logistic Regression: Test Set Evaluation ---\n",
      "              precision    recall  f1-score   support\n",
      "\n",
      " Non-Counter       0.64      0.82      0.72      5760\n",
      "     Counter       0.54      0.31      0.40      3840\n",
      "\n",
      "    accuracy                           0.62      9600\n",
      "   macro avg       0.59      0.57      0.56      9600\n",
      "weighted avg       0.60      0.62      0.59      9600\n",
      "\n",
      "Confusion Matrix:\n",
      "[[4742 1018]\n",
      " [2638 1202]]\n"
     ]
    }
   ],
   "source": [
    "from sklearn.metrics import classification_report, confusion_matrix\n",
    "\n",
    "# Predicting the target on the test set\n",
    "y_pred_lr = grid_lr.predict(X_test)\n",
    "\n",
    "# Detailed evaluation metrics: precision, recall, F1-score\n",
    "print(\"--- Logistic Regression: Test Set Evaluation ---\")\n",
    "print(classification_report(y_test, y_pred_lr, target_names=[\"Non-Counter\", \"Counter\"]))\n",
    "\n",
    "# Confusion matrix to see correct vs. incorrect predictions\n",
    "cm = confusion_matrix(y_test, y_pred_lr)\n",
    "print(\"Confusion Matrix:\")\n",
    "print(cm)"
   ]
  },
  {
   "cell_type": "markdown",
   "id": "c27b294b-12d4-40bd-a423-7b78c66fd602",
   "metadata": {},
   "source": [
    "### 5.3 Support Vector Machine (SVM)\n",
    "- We are tuning a Support Vector Machine (SVM) with class balancing to better detect rare card counters, leveraging multiple CPU cores for faster grid search."
   ]
  },
  {
   "cell_type": "code",
   "execution_count": 15,
   "id": "f6b1297a-ce65-4045-8998-da1f59b81a49",
   "metadata": {},
   "outputs": [
    {
     "name": "stdout",
     "output_type": "stream",
     "text": [
      "Fitting 5 folds for each of 3 candidates, totalling 15 fits\n",
      "[CV] END ...............................C=0.1, kernel=linear; total time=  18.9s\n",
      "[CV] END ................................C=10, kernel=linear; total time=  34.8s\n",
      "[CV] END ...............................C=0.1, kernel=linear; total time=  18.6s\n",
      "[CV] END ................................C=10, kernel=linear; total time=  35.7s\n",
      "[CV] END ...............................C=0.1, kernel=linear; total time=  20.1s\n",
      "[CV] END ................................C=10, kernel=linear; total time=  34.4s\n",
      "[CV] END ...............................C=0.1, kernel=linear; total time=  18.9s\n",
      "[CV] END ................................C=10, kernel=linear; total time=  35.7s\n",
      "[CV] END ...............................C=0.1, kernel=linear; total time=  19.3s\n",
      "[CV] END ................................C=10, kernel=linear; total time=  35.6s\n",
      "Best parameters: {'C': 1, 'kernel': 'linear'}\n",
      "Best CV F1 score: 0.5921818433130535\n"
     ]
    }
   ],
   "source": [
    "from sklearn.svm import SVC\n",
    "from sklearn.model_selection import GridSearchCV\n",
    "\n",
    "# Defining hyperparameter grid for SVM\n",
    "param_grid_svm = {\n",
    "    \"C\": [0.1, 1, 10],      # regularization strength\n",
    "    \"kernel\": [\"linear\"],    # linear kernel for faster computation\n",
    "}\n",
    "\n",
    "# Initializing SVM with class weights to handle imbalance\n",
    "svm = SVC(class_weight='balanced')\n",
    "\n",
    "# Grid search with 5-fold CV, optimizing F1 score, using all CPU cores\n",
    "grid_svm = GridSearchCV(\n",
    "    svm,\n",
    "    param_grid_svm,\n",
    "    cv=5,\n",
    "    scoring=\"f1\",\n",
    "    n_jobs=-1,\n",
    "    verbose=2\n",
    ")\n",
    "\n",
    "# Fitting the model\n",
    "grid_svm.fit(X_train, y_train)\n",
    "\n",
    "# Output best hyperparameters and CV score\n",
    "print(\"Best parameters:\", grid_svm.best_params_)\n",
    "print(\"Best CV F1 score:\", grid_svm.best_score_)"
   ]
  },
  {
   "cell_type": "markdown",
   "id": "18748d1e-409b-485e-8628-332bf772520f",
   "metadata": {},
   "source": [
    "### 5.4 SVM Performance\n",
    "- We are assessing the SVM’s ability to correctly identify card counters and non-counters on unseen data, checking for both false positives and false negatives."
   ]
  },
  {
   "cell_type": "code",
   "execution_count": 16,
   "id": "4ecec7af-a400-4562-96f5-7500281fb3fd",
   "metadata": {},
   "outputs": [
    {
     "name": "stdout",
     "output_type": "stream",
     "text": [
      "--- SVM: Test Set Evaluation ---\n",
      "              precision    recall  f1-score   support\n",
      "\n",
      " Non-Counter       0.75      0.44      0.56      5760\n",
      "     Counter       0.48      0.78      0.60      3840\n",
      "\n",
      "    accuracy                           0.58      9600\n",
      "   macro avg       0.62      0.61      0.58      9600\n",
      "weighted avg       0.65      0.58      0.57      9600\n",
      "\n",
      "Confusion Matrix:\n",
      "[[2554 3206]\n",
      " [ 830 3010]]\n"
     ]
    }
   ],
   "source": [
    "from sklearn.metrics import classification_report, confusion_matrix\n",
    "\n",
    "# Predict the target on the test set\n",
    "y_pred_svm = grid_svm.predict(X_test)\n",
    "\n",
    "# Evaluation metrics: precision, recall, F1-score\n",
    "print(\"--- SVM: Test Set Evaluation ---\")\n",
    "print(classification_report(y_test, y_pred_svm, target_names=[\"Non-Counter\", \"Counter\"]))\n",
    "\n",
    "# Confusion matrix to visualize correct vs. incorrect predictions\n",
    "cm_svm = confusion_matrix(y_test, y_pred_svm)\n",
    "print(\"Confusion Matrix:\")\n",
    "print(cm_svm)"
   ]
  },
  {
   "cell_type": "markdown",
   "id": "f3544ab8-a13f-428f-b1fa-db0b731179cd",
   "metadata": {},
   "source": [
    "### 5.5 Random Forest\n",
    "- We are tuning a Random Forest to find the optimal tree structure and number of estimators for detecting card counters."
   ]
  },
  {
   "cell_type": "code",
   "execution_count": 17,
   "id": "f71e7d1e-54ed-4581-bfd0-d61808c42057",
   "metadata": {},
   "outputs": [
    {
     "name": "stdout",
     "output_type": "stream",
     "text": [
      "Best parameters: {'max_depth': None, 'min_samples_split': 5, 'n_estimators': 200}\n",
      "Best CV F1 score: 0.7522350358584925\n"
     ]
    }
   ],
   "source": [
    "from sklearn.ensemble import RandomForestClassifier\n",
    "from sklearn.model_selection import GridSearchCV\n",
    "\n",
    "# Hyperparameter grid for Random Forest\n",
    "param_grid_rf = {\n",
    "    \"n_estimators\": [100, 200],       # number of trees\n",
    "    \"max_depth\": [None, 5, 10],       # tree depth\n",
    "    \"min_samples_split\": [2, 5]       # minimum samples to split a node\n",
    "}\n",
    "\n",
    "# Initializing Random Forest\n",
    "rf = RandomForestClassifier(random_state=42)\n",
    "\n",
    "# Grid search with 5-fold CV optimizing F1 score\n",
    "grid_rf = GridSearchCV(\n",
    "    rf, param_grid_rf,\n",
    "    cv=5, scoring=\"f1\", n_jobs=-1\n",
    ")\n",
    "\n",
    "# Fitting the model\n",
    "grid_rf.fit(X_train, y_train)\n",
    "\n",
    "# Showing the best hyperparameters and CV F1 score\n",
    "print(\"Best parameters:\", grid_rf.best_params_)\n",
    "print(\"Best CV F1 score:\", grid_rf.best_score_)"
   ]
  },
  {
   "cell_type": "markdown",
   "id": "f3177041-4f57-42df-9f0a-755c8e9ad565",
   "metadata": {},
   "source": [
    "### 5.6 Random Forest Performance\n",
    "- We are evaluating Random Forest on the test set and examining which features most influence the model, helping interpret what drives card counter detection."
   ]
  },
  {
   "cell_type": "code",
   "execution_count": 18,
   "id": "368450c3-ed60-4c9f-9fbf-618fe92f90a3",
   "metadata": {},
   "outputs": [
    {
     "name": "stdout",
     "output_type": "stream",
     "text": [
      "--- Random Forest: Test Set Evaluation ---\n",
      "              precision    recall  f1-score   support\n",
      "\n",
      " Non-Counter       0.85      0.81      0.83      5760\n",
      "     Counter       0.73      0.79      0.76      3840\n",
      "\n",
      "    accuracy                           0.80      9600\n",
      "   macro avg       0.79      0.80      0.80      9600\n",
      "weighted avg       0.81      0.80      0.80      9600\n",
      "\n",
      "Confusion Matrix:\n",
      "[[4663 1097]\n",
      " [ 802 3038]]\n",
      "\n",
      "Feature Importance:\n"
     ]
    },
    {
     "data": {
      "text/html": [
       "<div>\n",
       "<style scoped>\n",
       "    .dataframe tbody tr th:only-of-type {\n",
       "        vertical-align: middle;\n",
       "    }\n",
       "\n",
       "    .dataframe tbody tr th {\n",
       "        vertical-align: top;\n",
       "    }\n",
       "\n",
       "    .dataframe thead th {\n",
       "        text-align: right;\n",
       "    }\n",
       "</style>\n",
       "<table border=\"1\" class=\"dataframe\">\n",
       "  <thead>\n",
       "    <tr style=\"text-align: right;\">\n",
       "      <th></th>\n",
       "      <th>Feature</th>\n",
       "      <th>Importance</th>\n",
       "    </tr>\n",
       "  </thead>\n",
       "  <tbody>\n",
       "    <tr>\n",
       "      <th>4</th>\n",
       "      <td>Bet Size</td>\n",
       "      <td>0.530252</td>\n",
       "    </tr>\n",
       "    <tr>\n",
       "      <th>6</th>\n",
       "      <td>True_Count</td>\n",
       "      <td>0.171715</td>\n",
       "    </tr>\n",
       "    <tr>\n",
       "      <th>0</th>\n",
       "      <td>Player_Value</td>\n",
       "      <td>0.118101</td>\n",
       "    </tr>\n",
       "    <tr>\n",
       "      <th>1</th>\n",
       "      <td>Dealer_UpCard</td>\n",
       "      <td>0.077729</td>\n",
       "    </tr>\n",
       "    <tr>\n",
       "      <th>5</th>\n",
       "      <td>Action</td>\n",
       "      <td>0.067779</td>\n",
       "    </tr>\n",
       "    <tr>\n",
       "      <th>3</th>\n",
       "      <td>Pair</td>\n",
       "      <td>0.020510</td>\n",
       "    </tr>\n",
       "    <tr>\n",
       "      <th>2</th>\n",
       "      <td>Soft</td>\n",
       "      <td>0.013913</td>\n",
       "    </tr>\n",
       "  </tbody>\n",
       "</table>\n",
       "</div>"
      ],
      "text/plain": [
       "         Feature  Importance\n",
       "4       Bet Size    0.530252\n",
       "6     True_Count    0.171715\n",
       "0   Player_Value    0.118101\n",
       "1  Dealer_UpCard    0.077729\n",
       "5         Action    0.067779\n",
       "3           Pair    0.020510\n",
       "2           Soft    0.013913"
      ]
     },
     "metadata": {},
     "output_type": "display_data"
    }
   ],
   "source": [
    "from sklearn.metrics import classification_report, confusion_matrix\n",
    "\n",
    "# Predicting on test set\n",
    "y_pred_rf = grid_rf.predict(X_test)\n",
    "\n",
    "# Evaluating performance\n",
    "print(\"--- Random Forest: Test Set Evaluation ---\")\n",
    "print(classification_report(y_test, y_pred_rf, target_names=[\"Non-Counter\", \"Counter\"]))\n",
    "\n",
    "# Confusion matrix for visualizing correct vs incorrect predictions\n",
    "cm_rf = confusion_matrix(y_test, y_pred_rf)\n",
    "print(\"Confusion Matrix:\")\n",
    "print(cm_rf)\n",
    "\n",
    "# Computing and displaying feature importances\n",
    "importances = grid_rf.best_estimator_.feature_importances_\n",
    "feat_names = X_train.columns\n",
    "feat_importance_df = pd.DataFrame({\n",
    "    \"Feature\": feat_names,\n",
    "    \"Importance\": importances\n",
    "}).sort_values(by=\"Importance\", ascending=False)\n",
    "\n",
    "print(\"\\nFeature Importance:\")\n",
    "display(feat_importance_df)"
   ]
  },
  {
   "cell_type": "markdown",
   "id": "b296e0c6-6e93-4045-9151-89eef27887f2",
   "metadata": {},
   "source": [
    "## 6. Model Comparison and Statistics\n",
    "- This table summarizes how each model performs on unseen data, allowing us to quickly see which algorithm is best for detecting card counters.\n",
    "### 6.1 Logistic Regression v/s SVM v/s Random Forest"
   ]
  },
  {
   "cell_type": "code",
   "execution_count": 19,
   "id": "eb14b713-f75e-4bba-b3e4-0987204b3970",
   "metadata": {},
   "outputs": [
    {
     "data": {
      "text/html": [
       "<div>\n",
       "<style scoped>\n",
       "    .dataframe tbody tr th:only-of-type {\n",
       "        vertical-align: middle;\n",
       "    }\n",
       "\n",
       "    .dataframe tbody tr th {\n",
       "        vertical-align: top;\n",
       "    }\n",
       "\n",
       "    .dataframe thead th {\n",
       "        text-align: right;\n",
       "    }\n",
       "</style>\n",
       "<table border=\"1\" class=\"dataframe\">\n",
       "  <thead>\n",
       "    <tr style=\"text-align: right;\">\n",
       "      <th></th>\n",
       "      <th>Model</th>\n",
       "      <th>Best CV F1</th>\n",
       "      <th>Test F1</th>\n",
       "      <th>Test Accuracy</th>\n",
       "    </tr>\n",
       "  </thead>\n",
       "  <tbody>\n",
       "    <tr>\n",
       "      <th>0</th>\n",
       "      <td>Logistic Regression</td>\n",
       "      <td>0.387209</td>\n",
       "      <td>0.396700</td>\n",
       "      <td>0.619167</td>\n",
       "    </tr>\n",
       "    <tr>\n",
       "      <th>1</th>\n",
       "      <td>SVM</td>\n",
       "      <td>0.592182</td>\n",
       "      <td>0.598648</td>\n",
       "      <td>0.579583</td>\n",
       "    </tr>\n",
       "    <tr>\n",
       "      <th>2</th>\n",
       "      <td>Random Forest</td>\n",
       "      <td>0.752235</td>\n",
       "      <td>0.761881</td>\n",
       "      <td>0.802188</td>\n",
       "    </tr>\n",
       "  </tbody>\n",
       "</table>\n",
       "</div>"
      ],
      "text/plain": [
       "                 Model  Best CV F1   Test F1  Test Accuracy\n",
       "0  Logistic Regression    0.387209  0.396700       0.619167\n",
       "1                  SVM    0.592182  0.598648       0.579583\n",
       "2        Random Forest    0.752235  0.761881       0.802188"
      ]
     },
     "metadata": {},
     "output_type": "display_data"
    }
   ],
   "source": [
    "import pandas as pd\n",
    "from sklearn.metrics import f1_score, accuracy_score\n",
    "\n",
    "# Calculate the test F1 score and accuracy for each model\n",
    "lr_test_f1 = f1_score(y_test, y_pred_lr)\n",
    "lr_test_acc = accuracy_score(y_test, y_pred_lr)\n",
    "\n",
    "svm_test_f1 = f1_score(y_test, y_pred_svm)\n",
    "svm_test_acc = accuracy_score(y_test, y_pred_svm)\n",
    "\n",
    "rf_test_f1 = f1_score(y_test, y_pred_rf)\n",
    "rf_test_acc = accuracy_score(y_test, y_pred_rf)\n",
    "\n",
    "# Compiling metrics into a comparison table\n",
    "comparison = pd.DataFrame({\n",
    "    \"Model\": [\"Logistic Regression\", \"SVM\", \"Random Forest\"],\n",
    "    \"Best CV F1\": [grid_lr.best_score_, grid_svm.best_score_, grid_rf.best_score_],\n",
    "    \"Test F1\": [lr_test_f1, svm_test_f1, rf_test_f1],\n",
    "    \"Test Accuracy\": [lr_test_acc, svm_test_acc, rf_test_acc]\n",
    "})\n",
    "\n",
    "# Displaying the comparison\n",
    "display(comparison)"
   ]
  },
  {
   "cell_type": "markdown",
   "id": "9afb89ff-1ba5-400c-ae78-4bed0706c6cd",
   "metadata": {},
   "source": [
    "### 6.2 Feature Importance Visualization (Random Forest)\n",
    "- This bar plot highlights which features most strongly influence the Random Forest model (We are considering Random Forest, since Random Forest had the highest Test Accuracy and the F1 score), helping interpret what factors drive card counter detection."
   ]
  },
  {
   "cell_type": "code",
   "execution_count": 20,
   "id": "528cbfef-d218-462a-9cb5-0184a02d5806",
   "metadata": {},
   "outputs": [
    {
     "data": {
      "image/png": "[encoded data removed]",
      "text/plain": [
       "<Figure size 1000x600 with 1 Axes>"
      ]
     },
     "metadata": {},
     "output_type": "display_data"
    }
   ],
   "source": [
    "import matplotlib.pyplot as plt\n",
    "import seaborn as sns\n",
    "\n",
    "# Visualizing feature importances from Random Forest\n",
    "plt.figure(figsize=(10, 6))\n",
    "sns.barplot(\n",
    "    x=\"Importance\",\n",
    "    y=\"Feature\",\n",
    "    data=feat_importance_df,\n",
    "    hue=\"Feature\",\n",
    "    palette=\"viridis\",\n",
    "    dodge=False,\n",
    "    legend=False\n",
    ")\n",
    "plt.title(\"Random Forest Feature Importance\")\n",
    "plt.xlabel(\"Importance\")\n",
    "plt.ylabel(\"Feature\")\n",
    "plt.tight_layout()\n",
    "plt.show()"
   ]
  },
  {
   "cell_type": "markdown",
   "id": "67e18fd0-b575-4e9a-b204-b9c7b8871411",
   "metadata": {},
   "source": [
    "### 6.3 Random Forest Confusion Matrix\n",
    "- The heatmap helps us quickly see how many card counters and non-counters were correctly or incorrectly classified by the Random Forest model."
   ]
  },
  {
   "cell_type": "code",
   "execution_count": 21,
   "id": "4634262d-19b2-40e8-bdbc-81b10e9aa004",
   "metadata": {},
   "outputs": [
    {
     "data": {
      "image/png": "[encoded data removed]",
      "text/plain": [
       "<Figure size 600x500 with 2 Axes>"
      ]
     },
     "metadata": {},
     "output_type": "display_data"
    }
   ],
   "source": [
    "import matplotlib.pyplot as plt\n",
    "import seaborn as sns\n",
    "\n",
    "# Visualizing the Random Forest confusion matrix\n",
    "plt.figure(figsize=(6, 5))\n",
    "sns.heatmap(\n",
    "    cm_rf,                  # Confusion matrix from Random Forest predictions\n",
    "    annot=True, fmt=\"d\", \n",
    "    cmap=\"Blues\",\n",
    "    xticklabels=[\"Non-Counter\", \"Counter\"],\n",
    "    yticklabels=[\"Non-Counter\", \"Counter\"]\n",
    ")\n",
    "plt.title(\"Random Forest Confusion Matrix\")\n",
    "plt.xlabel(\"Predicted Label\")\n",
    "plt.ylabel(\"True Label\")\n",
    "plt.tight_layout()\n",
    "plt.show()"
   ]
  },
  {
   "cell_type": "markdown",
   "id": "c4a2f229-cb2c-46ce-96b4-27b0be0631f1",
   "metadata": {},
   "source": [
    "### 6.4 Model Comparison Visualisation\n",
    "- This visualization compares each model’s Test F1 and Accuracy side by side, making it easy to identify which model performs best for detecting card counters."
   ]
  },
  {
   "cell_type": "code",
   "execution_count": 22,
   "id": "d4ff33f7-8112-491b-8736-4966903e0e4f",
   "metadata": {},
   "outputs": [
    {
     "data": {
      "image/png": "[encoded data removed]",
      "text/plain": [
       "<Figure size 1000x600 with 1 Axes>"
      ]
     },
     "metadata": {},
     "output_type": "display_data"
    }
   ],
   "source": [
    "import matplotlib.pyplot as plt\n",
    "\n",
    "plt.figure(figsize=(10, 6))\n",
    "bar_width = 0.35\n",
    "index = range(len(comparison))\n",
    "\n",
    "# Plotting Test F1 scores\n",
    "plt.bar(index, comparison[\"Test F1\"], bar_width, label=\"Test F1\", color=\"skyblue\")\n",
    "\n",
    "# Plotting Test Accuracy scores (shifted)\n",
    "plt.bar([i + bar_width for i in index], comparison[\"Test Accuracy\"], bar_width, label=\"Test Accuracy\", color=\"salmon\")\n",
    "\n",
    "# Setting X-axis labels to model names\n",
    "plt.xticks([i + bar_width / 2 for i in index], comparison[\"Model\"])\n",
    "plt.ylabel(\"Score\")\n",
    "plt.ylim(0, 1)\n",
    "plt.title(\"Model Performance Comparison\")\n",
    "plt.legend()\n",
    "plt.tight_layout()\n",
    "plt.show()"
   ]
  },
  {
   "cell_type": "markdown",
   "id": "5d2dc837-7923-4495-b2af-c05db179f5c9",
   "metadata": {},
   "source": [
    "## 7 Discussion & Conclusion\n",
    "#### 1. Can card counters be detected?\n",
    "- Our models indicate that it **is possible to detect card counters**, though detection is not perfect.  \n",
    "- **Random Forest** achieved the best performance:  \n",
    "  - **Test F1:** 0.76  \n",
    "  - **Test Accuracy:** 0.80  \n",
    "- Logistic Regression and SVM performed reasonably well but struggled to capture non-linear interactions between features.\n",
    "\n",
    "#### 2. Most predictive features\n",
    "- **Bet Size** is the strongest predictor — card counters adjust bets according to the true count.  \n",
    "- **True Count** also contributes significantly, aligning with the theoretical basis of card counting.  \n",
    "- Other features (Player Value, Dealer Upcard, Action, Pair, Soft) provide smaller but meaningful contributions.\n",
    "\n",
    "#### 3. Limitations\n",
    "- Dataset is **simulated**, not real casino data, which may **bias model performance**.  \n",
    "- Models could **overfit** to patterns present in the simulated data but not in real-world scenarios.  \n",
    "- Class imbalance (more Non-Counters than Counters) could affect metrics — mitigated by `class_weight='balanced'` for SVM.\n",
    "\n",
    "#### 4. Key takeaway\n",
    "- Card counting behaviors can be **detected algorithmically** using betting patterns and hand values.  \n",
    "- Random Forest is the most reliable model in this dataset, showing that **ensemble methods capture non-linear interactions** better than linear models.\n"
   ]
  }
 ],
 "metadata": {
  "kernelspec": {
   "display_name": "Python [conda env:base] *",
   "language": "python",
   "name": "conda-base-py"
  },
  "language_info": {
   "codemirror_mode": {
    "name": "ipython",
    "version": 3
   },
   "file_extension": ".py",
   "mimetype": "text/x-python",
   "name": "python",
   "nbconvert_exporter": "python",
   "pygments_lexer": "ipython3",
   "version": "3.12.7"
  }
 },
 "nbformat": 4,
 "nbformat_minor": 5
}
